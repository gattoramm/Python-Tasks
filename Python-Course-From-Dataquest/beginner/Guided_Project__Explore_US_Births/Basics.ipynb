{
 "cells": [
 {
   "cell_type": "markdown",
   "metadata": {
    "collapsed": true
   },
   "source": [
    "# Guided Project: Explore U.S. Births\n",
    "\n",
    "In the last guided project, we explored the Jupyter notebook environment and worked with a dataset on births in the U.S. In this guided project, we'll continue working with the same  [dataset](https://raw.githubusercontent.com/fivethirtyeight/data/master/births/US_births_1994-2003_CDC_NCHS.csv/), compiled by FiveThirtyEight.\n",
    "\n",
    "The data set has the following structure:\n",
    "\n",
    "- `year` - Year\n",
    "- `month` - Month\n",
    "- `date_of_month` - Day number of the month\n",
    "- `day_of_week` - Day of week, where 1 is Monday and 7 is Sunday\n",
    "- `births` - Number of births\n",
    "\n",
    "## Instructions\n",
    "- `Create a function named`",
    "** read_csv() **",
    "`that:`\n",
    " - `Takes a single, required argument, a string representing the file name of the CSV file.`\n",
    " - `Reads the file into a string, splits the string on the newline character (`",
    "**n**",
    "`), and removes the header row. Assign this list to`",
    "** string_list **",
    "`and create an empty list named`",
    "** final_list**",
    "`.`\n",
    "\n",
    "\n",
    "- `Create a function named`",
    "** calc_counts() **",
    "`that:`\n",
    " - `Takes two, required parameters:`\n",
    "   - `data: a list of lists`\n",
    "   - `column: the column number we want to calculate the totals for`\n",
    " - `Populates and returns a dictionary containing the total number of births for each unique value in the column at position column.`"
   ]
  },
  {
   "cell_type": "code",
   "execution_count": 1,
   "metadata": {
    "collapsed": true
   },
   "outputs": [],
   "source": [
    "def read_csv( csv_file ):\n",
    "    f = open( csv_file, 'r' )\n",
    "    txt = f.read()\n",
    "    text = txt.split( '\\n' )\n",
    "    string_list = text[1:len( text )]\n",
    "    final_list = []\n",
    "    for index in string_list:\n",
    "        int_fields = []\n",
    "        string_fields = index.split( ',' )\n",
    "        for index2 in string_fields:\n",
    "            int_fields.append( int( index2 ) )\n",
    "        final_list.append( int_fields )\n",
    "    return final_list"
   ]
  },
  {
   "cell_type": "code",
   "execution_count": 2,
   "metadata": {
    "collapsed": false
   },
   "outputs": [],
   "source": [
    "cdc_list = read_csv( 'US_births_1994-2003_CDC_NCHS.csv' )"
   ]
  },
  {
   "cell_type": "code",
   "execution_count": 3,
   "metadata": {
    "collapsed": false
   },
   "outputs": [
    {
     "name": "stdout",
     "output_type": "stream",
     "text": [
      "[[1994, 1, 1, 6, 8096], [1994, 1, 2, 7, 7772], [1994, 1, 3, 1, 10142], [1994, 1, 4, 2, 11248], [1994, 1, 5, 3, 11053], [1994, 1, 6, 4, 11406], [1994, 1, 7, 5, 11251], [1994, 1, 8, 6, 8653], [1994, 1, 9, 7, 7910], [1994, 1, 10, 1, 10498]]\n"
     ]
    }
   ],
   "source": [
    "print(cdc_list[:10])"
   ]
  },
  {
   "cell_type": "code",
   "execution_count": 4,
   "metadata": {
    "collapsed": true
   },
   "outputs": [],
   "source": [
    "def calc_counts( data, column ):\n",
    "    dictionary = {}\n",
    "    for item in data:\n",
    "        column_item = item[column]\n",
    "        births = item[4]\n",
    "        if column_item in dictionary:\n",
    "            dictionary [column_item] += int( births )\n",
    "        else:\n",
    "            dictionary [column_item] = int( births )\n",
    "    return dictionary"
   ]
  },
  {
   "cell_type": "code",
   "execution_count": 5,
   "metadata": {
    "collapsed": false
   },
   "outputs": [
    {
     "name": "stdout",
     "output_type": "stream",
     "text": [
      "{2000: 4058814, 2001: 4025933, 2002: 4021726, 2003: 4089950, 1994: 3952767, 1995: 3899589, 1996: 3891494, 1997: 3880894, 1998: 3941553, 1999: 3959417}\n"
     ]
    }
   ],
   "source": [
    "cdc_year_births = calc_counts( cdc_list, 0 )\n",
    "print(cdc_year_births)"
   ]
  },
  {
   "cell_type": "code",
   "execution_count": 6,
   "metadata": {
    "collapsed": false
   },
   "outputs": [
    {
     "name": "stdout",
     "output_type": "stream",
     "text": [
      "{1: 3232517, 2: 3018140, 3: 3322069, 4: 3185314, 5: 3350907, 6: 3296530, 7: 3498783, 8: 3525858, 9: 3439698, 10: 3378814, 11: 3171647, 12: 3301860}\n"
     ]
    }
   ],
   "source": [
    "cdc_month_births = calc_counts( cdc_list, 1 )\n",
    "print(cdc_month_births)"
   ]
  },
  {
   "cell_type": "code",
   "execution_count": 7,
   "metadata": {
    "collapsed": false
   },
   "outputs": [
    {
     "name": "stdout",
     "output_type": "stream",
     "text": [
      "{1: 1276557, 2: 1288739, 3: 1304499, 4: 1288154, 5: 1299953, 6: 1304474, 7: 1310459, 8: 1312297, 9: 1303292, 10: 1320764, 11: 1314361, 12: 1318437, 13: 1277684, 14: 1320153, 15: 1319171, 16: 1315192, 17: 1324953, 18: 1326855, 19: 1318727, 20: 1324821, 21: 1322897, 22: 1317381, 23: 1293290, 24: 1288083, 25: 1272116, 26: 1284796, 27: 1294395, 28: 1307685, 29: 1223161, 30: 1202095, 31: 746696}\n"
     ]
    }
   ],
   "source": [
    "cdc_dom_births = calc_counts( cdc_list, 2 )\n",
    "print(cdc_dom_births)"
   ]
  },
  {
   "cell_type": "code",
   "execution_count": 8,
   "metadata": {
    "collapsed": false
   },
   "outputs": [
    {
     "name": "stdout",
     "output_type": "stream",
     "text": [
      "{1: 5789166, 2: 6446196, 3: 6322855, 4: 6288429, 5: 6233657, 6: 4562111, 7: 4079723}\n"
     ]
    }
   ],
   "source": [
    "cdc_dow_births = calc_counts( cdc_list, 3 )\n",
    "print(cdc_dow_births)"
   ]
  },
  {
   "cell_type": "code",
   "execution_count": null,
   "metadata": {
    "collapsed": true
   },
   "outputs": [],
   "source": []
  }
 ],
 "metadata": {
  "kernelspec": {
   "display_name": "Python 3",
   "language": "python",
   "name": "python3"
  },
  "language_info": {
   "codemirror_mode": {
    "name": "ipython",
    "version": 3
   },
   "file_extension": ".py",
   "mimetype": "text/x-python",
   "name": "python",
   "nbconvert_exporter": "python",
   "pygments_lexer": "ipython3",
   "version": "3.4.3"
  }
 },
 "nbformat": 4,
 "nbformat_minor": 0
}
